{
 "cells": [
  {
   "cell_type": "code",
   "execution_count": null,
   "metadata": {},
   "outputs": [],
   "source": [
    "import socket\n",
    "\n",
    "with socket.socket(socket.AF_INET, socket.SOCK_STREAM) as s:\n",
    "    s.bind(('localhost', 9999))\n",
    "    s.listen(1)\n",
    "    with open('stream.log', 'rb') as f:\n",
    "        from os import SEEK_SET, SEEK_CUR, SEEK_END\n",
    "        f.seek(0, SEEK_END)\n",
    "        pos = f.tell()\n",
    "        while pos > 0:\n",
    "            f.seek(pos-1, SEEK_SET)\n",
    "            if f.read(1) == b'\\n':\n",
    "                break\n",
    "            pos -= 1\n",
    "        count = 0\n",
    "        while True:\n",
    "            block = f.read()\n",
    "            end = block.rfind(b'\\n') + 1\n",
    "            size = len(block)\n",
    "            block = block[:end]\n",
    "            print(f'block {count}: {len(block)} bytes')\n",
    "            f.seek(end-size, SEEK_CUR)\n",
    "            try:\n",
    "                conn, addr = s.accept()\n",
    "                conn.sendall(block)\n",
    "                count += 1\n",
    "            finally:\n",
    "                conn.close()"
   ]
  }
 ],
 "metadata": {
  "kernelspec": {
   "display_name": "Python 3",
   "language": "python",
   "name": "python3"
  },
  "language_info": {
   "codemirror_mode": {
    "name": "ipython",
    "version": 3
   },
   "file_extension": ".py",
   "mimetype": "text/x-python",
   "name": "python",
   "nbconvert_exporter": "python",
   "pygments_lexer": "ipython3",
   "version": "3.6.7"
  }
 },
 "nbformat": 4,
 "nbformat_minor": 4
}
